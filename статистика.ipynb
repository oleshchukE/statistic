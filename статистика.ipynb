{
 "cells": [
  {
   "cell_type": "markdown",
   "metadata": {},
   "source": [
    "### Практикум"
   ]
  },
  {
   "cell_type": "markdown",
   "metadata": {},
   "source": [
    "- [Генерация выборок](#step1)\n",
    "- [t-критерий Стьюдента](#step2)\n",
    "- [Проверка данных на нормальность](#step3)\n",
    "- [Однофакторный дисперсионный анализ](#step4)\n",
    "- [Однофакторный дисперсионный анализ типов лечения](#step5)\n",
    "- [Двухфакторный дисперсионный анализ](#step6)\n",
    "- [Хи-квадрат Пирсона](#step7)\n",
    "\n",
    "\n",
    "\n",
    "\n"
   ]
  },
  {
   "cell_type": "code",
   "execution_count": 1,
   "metadata": {},
   "outputs": [],
   "source": [
    "import pandas as pd\n",
    "import math\n",
    "import random\n",
    "from scipy import stats\n",
    "import seaborn as sns\n",
    "import numpy as np\n",
    "import matplotlib.pyplot as plt\n",
    "from bioinfokit.analys import stat\n",
    "import pylab"
   ]
  },
  {
   "cell_type": "markdown",
   "metadata": {},
   "source": [
    "### <a id='step1'> Генерация выборок </a>"
   ]
  },
  {
   "cell_type": "markdown",
   "metadata": {},
   "source": [
    "### Генерация нормального распределения с numpy - массив array.\n",
    "\n",
    "np.random.normal(loc=0, scale=1, size=None), где\n",
    "- loc - среднее значение\n",
    "- scale = среднеквадратическое отклонение\n",
    "- size = число элементов"
   ]
  },
  {
   "cell_type": "code",
   "execution_count": 2,
   "metadata": {},
   "outputs": [
    {
     "data": {
      "text/plain": [
       "(array([  3.,   6.,  28.,  77., 136., 145., 103.,  68.,  24.,  10.]),\n",
       " array([-3.81076636, -2.57701914, -1.34327191, -0.10952468,  1.12422255,\n",
       "         2.35796977,  3.591717  ,  4.82546423,  6.05921145,  7.29295868,\n",
       "         8.52670591]),\n",
       " <BarContainer object of 10 artists>)"
      ]
     },
     "execution_count": 2,
     "metadata": {},
     "output_type": "execute_result"
    },
    {
     "data": {
      "image/png": "[encoded data removed]",
      "text/plain": [
       "<Figure size 432x288 with 1 Axes>"
      ]
     },
     "metadata": {
      "needs_background": "light"
     },
     "output_type": "display_data"
    }
   ],
   "source": [
    "mu, sigma = 3, 2 # mean and стандартное отклонение\n",
    "np_norm = np.random.normal(mu,sigma,600)\n",
    "plt.figure(figsize=(6,4))\n",
    "plt.hist(np_norm)"
   ]
  },
  {
   "cell_type": "markdown",
   "metadata": {},
   "source": [
    "### <a id='step2'> t-критерий Стьюдента </a>"
   ]
  },
  {
   "cell_type": "markdown",
   "metadata": {},
   "source": [
    "Предположим, что сравнивались выборки студентов первого и пятого курса по IQ. В таблице приведены статистики групп:"
   ]
  },
  {
   "cell_type": "code",
   "execution_count": 3,
   "metadata": {},
   "outputs": [],
   "source": [
    "import pandas as pd\n",
    "import math\n",
    "from scipy import stats\n",
    "import numpy as np\n",
    "\n",
    "columns = ['курс', 'N', 'среднее', 'стандартное отклонение']\n",
    "data = [\n",
    "    [1, 30, 103, 10.12],\n",
    "    [5, 28, 109, 12.01]\n",
    "]\n",
    "df = pd.DataFrame(data=data, columns=columns)"
   ]
  },
  {
   "cell_type": "markdown",
   "metadata": {},
   "source": [
    "Выдвинем гипотезы: \n",
    "- H0: IQ студентов 1 и 5 курса не отличается\n",
    "- Н1: IQ студентов 1 и 5 курса отличается"
   ]
  },
  {
   "cell_type": "markdown",
   "metadata": {},
   "source": [
    "### Вручную "
   ]
  },
  {
   "cell_type": "code",
   "execution_count": 4,
   "metadata": {},
   "outputs": [
    {
     "data": {
      "text/html": [
       "<div>\n",
       "<style scoped>\n",
       "    .dataframe tbody tr th:only-of-type {\n",
       "        vertical-align: middle;\n",
       "    }\n",
       "\n",
       "    .dataframe tbody tr th {\n",
       "        vertical-align: top;\n",
       "    }\n",
       "\n",
       "    .dataframe thead th {\n",
       "        text-align: right;\n",
       "    }\n",
       "</style>\n",
       "<table border=\"1\" class=\"dataframe\">\n",
       "  <thead>\n",
       "    <tr style=\"text-align: right;\">\n",
       "      <th></th>\n",
       "      <th>курс</th>\n",
       "      <th>N</th>\n",
       "      <th>среднее</th>\n",
       "      <th>стандартное отклонение</th>\n",
       "      <th>se</th>\n",
       "    </tr>\n",
       "  </thead>\n",
       "  <tbody>\n",
       "    <tr>\n",
       "      <th>0</th>\n",
       "      <td>1</td>\n",
       "      <td>30</td>\n",
       "      <td>103</td>\n",
       "      <td>10.12</td>\n",
       "      <td>1.85</td>\n",
       "    </tr>\n",
       "    <tr>\n",
       "      <th>1</th>\n",
       "      <td>5</td>\n",
       "      <td>28</td>\n",
       "      <td>109</td>\n",
       "      <td>12.01</td>\n",
       "      <td>2.27</td>\n",
       "    </tr>\n",
       "  </tbody>\n",
       "</table>\n",
       "</div>"
      ],
      "text/plain": [
       "   курс   N  среднее  стандартное отклонение    se\n",
       "0     1  30      103                   10.12  1.85\n",
       "1     5  28      109                   12.01  2.27"
      ]
     },
     "execution_count": 4,
     "metadata": {},
     "output_type": "execute_result"
    }
   ],
   "source": [
    "#найдем стандартную ошибку среднего\n",
    "def se(row):\n",
    "    sd = row['стандартное отклонение']\n",
    "    N = row['N']\n",
    "    return round(sd / math.sqrt(N), 2)\n",
    "df['se'] = df.apply(se, axis=1)\n",
    "df"
   ]
  },
  {
   "cell_type": "code",
   "execution_count": 5,
   "metadata": {},
   "outputs": [],
   "source": [
    "# рассчитаем t-критерий Стьюдента\n",
    "t = (df['среднее'][0] - df['среднее'][1]) / math.sqrt(df['стандартное отклонение'][0]**2/df['N'][0]+df['стандартное отклонение'][1]**2/df['N'][1])"
   ]
  },
  {
   "cell_type": "markdown",
   "metadata": {},
   "source": [
    "кол-во степеней свободы - 56, значит при t = -2.050 p-value < 0.05 (по таблице критических значений)"
   ]
  },
  {
   "cell_type": "markdown",
   "metadata": {},
   "source": [
    "### Результат: отвергаем нулевую гипотезы, IQ студентов 1 и 5 различается"
   ]
  },
  {
   "cell_type": "markdown",
   "metadata": {},
   "source": [
    "### С помощью scipy.stats.ttest_ind()"
   ]
  },
  {
   "cell_type": "code",
   "execution_count": 6,
   "metadata": {},
   "outputs": [
    {
     "name": "stdout",
     "output_type": "stream",
     "text": [
      "Ttest_indResult(statistic=-2.060240897809144, pvalue=0.044033430136224745)\n",
      "Отвергаем нулевую гипотезу, p-value = 0.044\n"
     ]
    }
   ],
   "source": [
    "# сгенерируем выборки со средним и sd как в таблице df чтобы применить scipy.stats.ttest_ind()\n",
    "sample_1 = stats.norm.rvs(loc=103,scale=10.12,size=30)\n",
    "sample_2 = stats.norm.rvs(loc=109,scale=12.01,size=28)\n",
    "result = stats.ttest_ind(sample_1,sample_2)\n",
    "print(result)\n",
    "if result.pvalue < 0.05:\n",
    "    print('Отвергаем нулевую гипотезу, p-value =', '{:.3f}'.format(result.pvalue ))\n",
    "else:\n",
    "    print('Нет оснований для отвержения нулевой гипотезы при выбранном уровне статистической значимости, p-value=', '{:.3f}'.format(result.pvalue ))"
   ]
  },
  {
   "cell_type": "markdown",
   "metadata": {},
   "source": [
    "### <a id='step3'> Проверка данных на нормальность </a>"
   ]
  },
  {
   "cell_type": "code",
   "execution_count": 7,
   "metadata": {},
   "outputs": [
    {
     "data": {
      "text/html": [
       "<div>\n",
       "<style scoped>\n",
       "    .dataframe tbody tr th:only-of-type {\n",
       "        vertical-align: middle;\n",
       "    }\n",
       "\n",
       "    .dataframe tbody tr th {\n",
       "        vertical-align: top;\n",
       "    }\n",
       "\n",
       "    .dataframe thead th {\n",
       "        text-align: right;\n",
       "    }\n",
       "</style>\n",
       "<table border=\"1\" class=\"dataframe\">\n",
       "  <thead>\n",
       "    <tr style=\"text-align: right;\">\n",
       "      <th></th>\n",
       "      <th>случай</th>\n",
       "      <th>количество решенных задач</th>\n",
       "    </tr>\n",
       "  </thead>\n",
       "  <tbody>\n",
       "    <tr>\n",
       "      <th>0</th>\n",
       "      <td>1</td>\n",
       "      <td>41</td>\n",
       "    </tr>\n",
       "    <tr>\n",
       "      <th>1</th>\n",
       "      <td>2</td>\n",
       "      <td>42</td>\n",
       "    </tr>\n",
       "    <tr>\n",
       "      <th>2</th>\n",
       "      <td>3</td>\n",
       "      <td>48</td>\n",
       "    </tr>\n",
       "    <tr>\n",
       "      <th>3</th>\n",
       "      <td>4</td>\n",
       "      <td>61</td>\n",
       "    </tr>\n",
       "    <tr>\n",
       "      <th>4</th>\n",
       "      <td>5</td>\n",
       "      <td>56</td>\n",
       "    </tr>\n",
       "    <tr>\n",
       "      <th>5</th>\n",
       "      <td>6</td>\n",
       "      <td>53</td>\n",
       "    </tr>\n",
       "    <tr>\n",
       "      <th>6</th>\n",
       "      <td>7</td>\n",
       "      <td>47</td>\n",
       "    </tr>\n",
       "    <tr>\n",
       "      <th>7</th>\n",
       "      <td>8</td>\n",
       "      <td>58</td>\n",
       "    </tr>\n",
       "    <tr>\n",
       "      <th>8</th>\n",
       "      <td>9</td>\n",
       "      <td>49</td>\n",
       "    </tr>\n",
       "    <tr>\n",
       "      <th>9</th>\n",
       "      <td>10</td>\n",
       "      <td>51</td>\n",
       "    </tr>\n",
       "    <tr>\n",
       "      <th>10</th>\n",
       "      <td>11</td>\n",
       "      <td>54</td>\n",
       "    </tr>\n",
       "    <tr>\n",
       "      <th>11</th>\n",
       "      <td>12</td>\n",
       "      <td>53</td>\n",
       "    </tr>\n",
       "    <tr>\n",
       "      <th>12</th>\n",
       "      <td>13</td>\n",
       "      <td>49</td>\n",
       "    </tr>\n",
       "    <tr>\n",
       "      <th>13</th>\n",
       "      <td>14</td>\n",
       "      <td>51</td>\n",
       "    </tr>\n",
       "    <tr>\n",
       "      <th>14</th>\n",
       "      <td>15</td>\n",
       "      <td>52</td>\n",
       "    </tr>\n",
       "  </tbody>\n",
       "</table>\n",
       "</div>"
      ],
      "text/plain": [
       "    случай  количество решенных задач\n",
       "0        1                         41\n",
       "1        2                         42\n",
       "2        3                         48\n",
       "3        4                         61\n",
       "4        5                         56\n",
       "5        6                         53\n",
       "6        7                         47\n",
       "7        8                         58\n",
       "8        9                         49\n",
       "9       10                         51\n",
       "10      11                         54\n",
       "11      12                         53\n",
       "12      13                         49\n",
       "13      14                         51\n",
       "14      15                         52"
      ]
     },
     "execution_count": 7,
     "metadata": {},
     "output_type": "execute_result"
    }
   ],
   "source": [
    "df_1 = pd.read_excel('shapiro.xlsx')\n",
    "df_1.columns = [c.lower() for c in df_1.columns]\n",
    "df_1"
   ]
  },
  {
   "cell_type": "code",
   "execution_count": 8,
   "metadata": {},
   "outputs": [
    {
     "name": "stdout",
     "output_type": "stream",
     "text": [
      "нет оснований отвергнуть нулевую гипотезу, предполагаем, что распределение нормальное\n"
     ]
    }
   ],
   "source": [
    "shapiro_test = stats.shapiro(df_1['количество решенных задач'])\n",
    "if shapiro_test.pvalue > 0.05:\n",
    "    print('нет оснований отвергнуть нулевую гипотезу, предполагаем, что распределение нормальное')\n",
    "else:\n",
    "    print('отвергаем нулевую гипотезу')"
   ]
  },
  {
   "cell_type": "code",
   "execution_count": 9,
   "metadata": {},
   "outputs": [
    {
     "name": "stdout",
     "output_type": "stream",
     "text": [
      "0.15989598986031828\n"
     ]
    },
    {
     "data": {
      "text/plain": [
       "-0.17098888661244258"
      ]
     },
     "execution_count": 9,
     "metadata": {},
     "output_type": "execute_result"
    }
   ],
   "source": [
    "# с помощью асимптоты и экспоненты\n",
    "print(df_1['количество решенных задач'].kurtosis()) \n",
    "df_1['количество решенных задач'].skew() "
   ]
  },
  {
   "cell_type": "markdown",
   "metadata": {},
   "source": [
    "< 1, значит, есть основания полагать, что распределение нормальное"
   ]
  },
  {
   "cell_type": "markdown",
   "metadata": {},
   "source": [
    "### <a id='step4'>Однофакторный дисперсионный анализ</a>"
   ]
  },
  {
   "cell_type": "markdown",
   "metadata": {},
   "source": [
    "<img src='gen.png'>"
   ]
  },
  {
   "cell_type": "markdown",
   "metadata": {},
   "source": [
    "1. Определяем p-value однофакторного теста ANOVA (stats.f_oneway if <0.05 признаем различия по группам статистически значимыми)\n",
    "2. Применяем критерий Тьюки для попарных сравнение по группам (или Тьюки-Крамера, если выборки разные по размеру)\n",
    "3. Проверяем данные: \n",
    "- на нормальность распределения признака по группам (sns.problot, stats.shapiro)\n",
    "- на гомогенность дисперсии (stats.bartlett()критерий Барлетта (для нормального распределения) или Левина from bioinfokit.analys import stat)\n",
    "4. Выводы"
   ]
  },
  {
   "cell_type": "code",
   "execution_count": 10,
   "metadata": {},
   "outputs": [],
   "source": [
    "df = pd.read_csv('gen.csv')\n",
    "df.head()\n",
    "# выделим группы по типу лечения\n",
    "A = df.query('Therapy == \"A\"')['expr']\n",
    "B = df.query('Therapy == \"B\"')['expr']\n",
    "C = df.query('Therapy == \"C\"')['expr']\n",
    "D = df.query('Therapy == \"D\"')['expr']"
   ]
  },
  {
   "cell_type": "code",
   "execution_count": 11,
   "metadata": {},
   "outputs": [
    {
     "data": {
      "text/plain": [
       "Text(0, 0.5, 'Экспрессия')"
      ]
     },
     "execution_count": 11,
     "metadata": {},
     "output_type": "execute_result"
    },
    {
     "data": {
      "image/png": "[encoded data removed]",
      "text/plain": [
       "<Figure size 432x288 with 1 Axes>"
      ]
     },
     "metadata": {
      "needs_background": "light"
     },
     "output_type": "display_data"
    }
   ],
   "source": [
    "# посмотрим на распределение значений по группам\n",
    "sns.boxplot(x='Therapy', y='expr', data=df)\n",
    "plt.title('Распределение экспрессии по группам')\n",
    "plt.xlabel('Тип терапии')\n",
    "plt.ylabel('Экспрессия')"
   ]
  },
  {
   "cell_type": "markdown",
   "metadata": {},
   "source": [
    "проведем ANOVA тест\n",
    "- Н0: уровень экспрессии гена по группам не отличается\n",
    "- Н1: уровень экспрессии гена по группам отличается"
   ]
  },
  {
   "cell_type": "code",
   "execution_count": 12,
   "metadata": {},
   "outputs": [
    {
     "name": "stdout",
     "output_type": "stream",
     "text": [
      "Отвергаем нулевую гипотезу\n"
     ]
    },
    {
     "data": {
      "text/html": [
       "<div>\n",
       "<style scoped>\n",
       "    .dataframe tbody tr th:only-of-type {\n",
       "        vertical-align: middle;\n",
       "    }\n",
       "\n",
       "    .dataframe tbody tr th {\n",
       "        vertical-align: top;\n",
       "    }\n",
       "\n",
       "    .dataframe thead th {\n",
       "        text-align: right;\n",
       "    }\n",
       "</style>\n",
       "<table border=\"1\" class=\"dataframe\">\n",
       "  <thead>\n",
       "    <tr style=\"text-align: right;\">\n",
       "      <th></th>\n",
       "      <th>df</th>\n",
       "      <th>sum_sq</th>\n",
       "      <th>mean_sq</th>\n",
       "      <th>F</th>\n",
       "      <th>PR(&gt;F)</th>\n",
       "    </tr>\n",
       "  </thead>\n",
       "  <tbody>\n",
       "    <tr>\n",
       "      <th>C(Therapy)</th>\n",
       "      <td>3.0</td>\n",
       "      <td>560.716667</td>\n",
       "      <td>186.905556</td>\n",
       "      <td>8.037302</td>\n",
       "      <td>0.000152</td>\n",
       "    </tr>\n",
       "    <tr>\n",
       "      <th>Residual</th>\n",
       "      <td>56.0</td>\n",
       "      <td>1302.266667</td>\n",
       "      <td>23.254762</td>\n",
       "      <td>NaN</td>\n",
       "      <td>NaN</td>\n",
       "    </tr>\n",
       "  </tbody>\n",
       "</table>\n",
       "</div>"
      ],
      "text/plain": [
       "              df       sum_sq     mean_sq         F    PR(>F)\n",
       "C(Therapy)   3.0   560.716667  186.905556  8.037302  0.000152\n",
       "Residual    56.0  1302.266667   23.254762       NaN       NaN"
      ]
     },
     "execution_count": 12,
     "metadata": {},
     "output_type": "execute_result"
    }
   ],
   "source": [
    "# scipy.stats вариант\n",
    "res = stats.f_oneway(A, B,C,D)\n",
    "if res.pvalue < 0.05:\n",
    "    print('Отвергаем нулевую гипотезу')\n",
    "else:\n",
    "    print('Нет оснований для отвержения нулувой гипотезы')\n",
    "\n",
    "res = stat()\n",
    "res.anova_stat(df=df, res_var='expr', anova_model='expr ~ C(Therapy)')\n",
    "res.anova_summary"
   ]
  },
  {
   "cell_type": "markdown",
   "metadata": {},
   "source": [
    "### Уровень p-value оказался меньше уровня значимости, что указывает на наличие статистически значимых различий в экспрессии генов по группам лечения"
   ]
  },
  {
   "cell_type": "code",
   "execution_count": 13,
   "metadata": {},
   "outputs": [
    {
     "data": {
      "text/html": [
       "<div>\n",
       "<style scoped>\n",
       "    .dataframe tbody tr th:only-of-type {\n",
       "        vertical-align: middle;\n",
       "    }\n",
       "\n",
       "    .dataframe tbody tr th {\n",
       "        vertical-align: top;\n",
       "    }\n",
       "\n",
       "    .dataframe thead th {\n",
       "        text-align: right;\n",
       "    }\n",
       "</style>\n",
       "<table border=\"1\" class=\"dataframe\">\n",
       "  <thead>\n",
       "    <tr style=\"text-align: right;\">\n",
       "      <th></th>\n",
       "      <th>group1</th>\n",
       "      <th>group2</th>\n",
       "      <th>Diff</th>\n",
       "      <th>Lower</th>\n",
       "      <th>Upper</th>\n",
       "      <th>q-value</th>\n",
       "      <th>p-value</th>\n",
       "    </tr>\n",
       "  </thead>\n",
       "  <tbody>\n",
       "    <tr>\n",
       "      <th>0</th>\n",
       "      <td>A</td>\n",
       "      <td>B</td>\n",
       "      <td>0.933333</td>\n",
       "      <td>-3.729420</td>\n",
       "      <td>5.596087</td>\n",
       "      <td>0.749595</td>\n",
       "      <td>0.900000</td>\n",
       "    </tr>\n",
       "    <tr>\n",
       "      <th>1</th>\n",
       "      <td>A</td>\n",
       "      <td>C</td>\n",
       "      <td>5.333333</td>\n",
       "      <td>0.670580</td>\n",
       "      <td>9.996087</td>\n",
       "      <td>4.283398</td>\n",
       "      <td>0.018896</td>\n",
       "    </tr>\n",
       "    <tr>\n",
       "      <th>2</th>\n",
       "      <td>A</td>\n",
       "      <td>D</td>\n",
       "      <td>7.400000</td>\n",
       "      <td>2.737246</td>\n",
       "      <td>12.062754</td>\n",
       "      <td>5.943214</td>\n",
       "      <td>0.001000</td>\n",
       "    </tr>\n",
       "    <tr>\n",
       "      <th>3</th>\n",
       "      <td>B</td>\n",
       "      <td>C</td>\n",
       "      <td>4.400000</td>\n",
       "      <td>-0.262754</td>\n",
       "      <td>9.062754</td>\n",
       "      <td>3.533803</td>\n",
       "      <td>0.071157</td>\n",
       "    </tr>\n",
       "    <tr>\n",
       "      <th>4</th>\n",
       "      <td>B</td>\n",
       "      <td>D</td>\n",
       "      <td>6.466667</td>\n",
       "      <td>1.803913</td>\n",
       "      <td>11.129420</td>\n",
       "      <td>5.193620</td>\n",
       "      <td>0.002948</td>\n",
       "    </tr>\n",
       "    <tr>\n",
       "      <th>5</th>\n",
       "      <td>C</td>\n",
       "      <td>D</td>\n",
       "      <td>2.066667</td>\n",
       "      <td>-2.596087</td>\n",
       "      <td>6.729420</td>\n",
       "      <td>1.659817</td>\n",
       "      <td>0.629585</td>\n",
       "    </tr>\n",
       "  </tbody>\n",
       "</table>\n",
       "</div>"
      ],
      "text/plain": [
       "  group1 group2      Diff     Lower      Upper   q-value   p-value\n",
       "0      A      B  0.933333 -3.729420   5.596087  0.749595  0.900000\n",
       "1      A      C  5.333333  0.670580   9.996087  4.283398  0.018896\n",
       "2      A      D  7.400000  2.737246  12.062754  5.943214  0.001000\n",
       "3      B      C  4.400000 -0.262754   9.062754  3.533803  0.071157\n",
       "4      B      D  6.466667  1.803913  11.129420  5.193620  0.002948\n",
       "5      C      D  2.066667 -2.596087   6.729420  1.659817  0.629585"
      ]
     },
     "execution_count": 13,
     "metadata": {},
     "output_type": "execute_result"
    }
   ],
   "source": [
    "# с помощью критерия Тьюки сравним группы между собой\n",
    "res = stat()\n",
    "res.tukey_hsd(df = df, res_var='expr', xfac_var='Therapy', anova_model='expr ~ C(Therapy)' )\n",
    "res.tukey_summary"
   ]
  },
  {
   "cell_type": "markdown",
   "metadata": {},
   "source": [
    "Судя по результатам теста, статистически значимые различия обнаружены между группами:\n",
    "- A и C\n",
    "- A и D\n",
    "- B и D"
   ]
  },
  {
   "cell_type": "markdown",
   "metadata": {},
   "source": [
    "### Проверим данные на соблюдение требований Anova\n",
    "- нормальность\n",
    "- гомогенность дисперсии"
   ]
  },
  {
   "cell_type": "code",
   "execution_count": 14,
   "metadata": {},
   "outputs": [
    {
     "data": {
      "text/plain": [
       "((array([-1.69372899, -1.22918025, -0.93620006, -0.70737068, -0.51078428,\n",
       "         -0.33229293, -0.1638693 ,  0.        ,  0.1638693 ,  0.33229293,\n",
       "          0.51078428,  0.70737068,  0.93620006,  1.22918025,  1.69372899]),\n",
       "  array([85, 87, 89, 90, 91, 91, 92, 92, 93, 94, 94, 95, 96, 97, 99])),\n",
       " (3.9634760412165226, 92.33333333333333, 0.9949553952632524))"
      ]
     },
     "execution_count": 14,
     "metadata": {},
     "output_type": "execute_result"
    },
    {
     "data": {
      "image/png": "[encoded data removed]",
      "text/plain": [
       "<Figure size 432x288 with 4 Axes>"
      ]
     },
     "metadata": {
      "needs_background": "light"
     },
     "output_type": "display_data"
    }
   ],
   "source": [
    "# построим графики qq-plot для каждой группы \n",
    "plt.subplot(2,2,1)\n",
    "stats.probplot(A, plot=pylab)\n",
    "plt.subplot(2,2,2)\n",
    "stats.probplot(B, plot=pylab)\n",
    "plt.subplot(2,2,3)\n",
    "stats.probplot(C, plot=pylab)\n",
    "plt.subplot(2,2,4)\n",
    "stats.probplot(D, plot=pylab)"
   ]
  },
  {
   "cell_type": "markdown",
   "metadata": {},
   "source": [
    "проверим нормальность распределения признака по группам с помощью Shapiro:\n",
    "- Н0: нет оснований считать, что признак распределен не нормально\n",
    "- H1: признак распределен не нормально"
   ]
  },
  {
   "cell_type": "code",
   "execution_count": 15,
   "metadata": {},
   "outputs": [
    {
     "name": "stdout",
     "output_type": "stream",
     "text": [
      "A : p-value: 0.06\n",
      "B : p-value: 0.24\n",
      "C : p-value: 0.26\n",
      "D : p-value: 1.0\n"
     ]
    }
   ],
   "source": [
    "for group in df['Therapy'].unique():\n",
    "    res = df[df['Therapy'] == group]['expr']\n",
    "    print(group,': p-value:' , round((stats.shapiro(res).pvalue),2))"
   ]
  },
  {
   "cell_type": "markdown",
   "metadata": {},
   "source": [
    "p-value во всех случаях превысил порог значимости, то есть нет оснований считать, что признак распределен не нормально"
   ]
  },
  {
   "cell_type": "code",
   "execution_count": 16,
   "metadata": {},
   "outputs": [
    {
     "name": "stdout",
     "output_type": "stream",
     "text": [
      "0.32704502315643685\n"
     ]
    },
    {
     "data": {
      "text/html": [
       "<div>\n",
       "<style scoped>\n",
       "    .dataframe tbody tr th:only-of-type {\n",
       "        vertical-align: middle;\n",
       "    }\n",
       "\n",
       "    .dataframe tbody tr th {\n",
       "        vertical-align: top;\n",
       "    }\n",
       "\n",
       "    .dataframe thead th {\n",
       "        text-align: right;\n",
       "    }\n",
       "</style>\n",
       "<table border=\"1\" class=\"dataframe\">\n",
       "  <thead>\n",
       "    <tr style=\"text-align: right;\">\n",
       "      <th></th>\n",
       "      <th>Parameter</th>\n",
       "      <th>Value</th>\n",
       "    </tr>\n",
       "  </thead>\n",
       "  <tbody>\n",
       "    <tr>\n",
       "      <th>0</th>\n",
       "      <td>Test statistics (T)</td>\n",
       "      <td>3.452</td>\n",
       "    </tr>\n",
       "    <tr>\n",
       "      <th>1</th>\n",
       "      <td>Degrees of freedom (Df)</td>\n",
       "      <td>3.000</td>\n",
       "    </tr>\n",
       "    <tr>\n",
       "      <th>2</th>\n",
       "      <td>p value</td>\n",
       "      <td>0.327</td>\n",
       "    </tr>\n",
       "  </tbody>\n",
       "</table>\n",
       "</div>"
      ],
      "text/plain": [
       "                 Parameter  Value\n",
       "0      Test statistics (T)  3.452\n",
       "1  Degrees of freedom (Df)  3.000\n",
       "2                  p value  0.327"
      ]
     },
     "execution_count": 16,
     "metadata": {},
     "output_type": "execute_result"
    }
   ],
   "source": [
    "# проверим гомогенность дисперсии. \n",
    "# В данном случае признак распределен нормально, поэтому будет использован критерий критерий Бартлетта\n",
    "\n",
    "#stats.barlett\n",
    "res = stats.bartlett(A,B,C,D)\n",
    "print(res.pvalue)\n",
    "\n",
    "#bioinfokit.analys\n",
    "res = stat()\n",
    "res.bartlett(df=df, res_var='expr', xfac_var='Therapy')\n",
    "res.bartlett_summary"
   ]
  },
  {
   "cell_type": "markdown",
   "metadata": {},
   "source": [
    "### Данные не позволяют отвергуть гипотезу о гомогенности дисперсии"
   ]
  },
  {
   "cell_type": "markdown",
   "metadata": {},
   "source": [
    "### Результат ANOVA: **удалось выявить статистически значимую взаимосвязь** типа терапии с показателем уровня экспрессии гена. \n",
    "F(3,56) = 8.04, p<0.05"
   ]
  },
  {
   "cell_type": "markdown",
   "metadata": {},
   "source": [
    "### Ручной расчет\n",
    "\n"
   ]
  },
  {
   "cell_type": "markdown",
   "metadata": {},
   "source": [
    "Порядок расчета:\n",
    "1. Находим среднее по всем Элементам\n",
    "2. Рассчитываем SST (total sum of square)  - показатель изменчивости наших данных \n",
    "3. Рассчитываем степени свободы для SST: df = N-1\n",
    "4. Рассчитываем SSW - показатель (внутригрупповая сумма квадратов)  - сумма отклонений от среднего внутри группы.\n",
    "Считаем среднее для каждой группы. Вычитаем из каждого элемента группы среднее значение. \n",
    "5. Рассчитываем степени свободы для SSW: df = N-m\n",
    "6. Рассчитываем SSB (межгрупповая сумма квадратов)  - сумма отклонений среднего группы от среднего по всем группам. \n",
    "7. Рассчитываем степени свободы для SSB: df = m-1\n",
    "8. Рассчитываем Mwg - внутригрупповой средний квадрат: Mwg = SSW / df(wg)\n",
    "9. Рассчитываем Mbg - межгрупповой средний квадрат: Mbg = SSB / df(bg)\n",
    "10. Рассчитываем F-значение Фишера: F = Mbg / Mwg\n",
    "\n",
    "**Интерпретация**: если бОльшая часть изменчивости обеспечивается за счет межгрупповой суммы квадратов, значит, что изменчивость обеспечивается за счет различий по группам  "
   ]
  },
  {
   "cell_type": "code",
   "execution_count": 17,
   "metadata": {},
   "outputs": [],
   "source": [
    "# среднее по всем Э\n",
    "mean_total = df['expr'].sum() / len(df['expr'])"
   ]
  },
  {
   "cell_type": "code",
   "execution_count": 18,
   "metadata": {},
   "outputs": [],
   "source": [
    "#рассчитаем SST (total sum of square - показатель изменчивости данных)\n",
    "counter = 0\n",
    "for i in df['expr']:\n",
    "    res = (i - mean_total)**2\n",
    "    counter += res"
   ]
  },
  {
   "cell_type": "code",
   "execution_count": 19,
   "metadata": {},
   "outputs": [],
   "source": [
    "# рассчитаем SSW - внутригрупповая сумма квадратов\n",
    "# 1. найдем среднее по каждой группе\n",
    "df_group = df.groupby(['Therapy']).agg('mean').reset_index()\n",
    "\n",
    "# 2. найдем разницу для каждого элемента внутри группы\n",
    "def wg_diff(group): #считает суммарный квадрат разницы для каждой группы \n",
    "    counter_1 = 0\n",
    "    df_gr = df[df['Therapy'] == group] \n",
    "    for i in df_gr['expr']:\n",
    "        res = (i - df_gr['expr'].mean())**2\n",
    "        counter_1 += res\n",
    "    return counter_1\n",
    "SSW = 0\n",
    "# 3. сложим результаты по всем группам\n",
    "for group in df['Therapy'].unique():\n",
    "    res = wg_diff(group)\n",
    "    SSW = SSW + res     \n",
    "# 4. рассчитаем степени свободы : df_wg = N-m \n",
    "df_wg = df.shape[0] - df['Therapy'].unique().size"
   ]
  },
  {
   "cell_type": "code",
   "execution_count": 20,
   "metadata": {},
   "outputs": [],
   "source": [
    "# рассчитаем SSB - межгрупповая сумма квадратов\n",
    "# нужно вычесть из среднего по группе общее среднее и умножить на кол-во элементов\n",
    "df_gr = df.groupby('Therapy').agg(['count', 'mean'])\n",
    "df_gr.columns = ['N', 'mean']\n",
    "df_gr['ssb'] = (df_gr['mean'] - mean_total)**2 * df_gr['N']\n",
    "SSB = df_gr['ssb'].sum()\n",
    "# рассчитаем степени свободы : df_bg = m-1\n",
    "df_bg = df['Therapy'].unique().size - 1"
   ]
  },
  {
   "cell_type": "code",
   "execution_count": 21,
   "metadata": {},
   "outputs": [],
   "source": [
    "# Рассчитываем Mwg - внутригрупповой средний квадрат: Mwg = SSW / df(wg)\n",
    "M_wg = SSW / df_wg"
   ]
  },
  {
   "cell_type": "code",
   "execution_count": 22,
   "metadata": {},
   "outputs": [],
   "source": [
    "# Рассчитываем Mbg - межгрупповой средний квадрат: Mbg = SSB / df(bg)\n",
    "M_bg = SSB / df_bg"
   ]
  },
  {
   "cell_type": "code",
   "execution_count": 23,
   "metadata": {},
   "outputs": [
    {
     "data": {
      "text/plain": [
       "8.037302481143987"
      ]
     },
     "execution_count": 23,
     "metadata": {},
     "output_type": "execute_result"
    }
   ],
   "source": [
    "# Рассчитываем F-значение Фишера: F = Mbg / Mwg\n",
    "F = M_bg / M_wg\n",
    "F"
   ]
  },
  {
   "cell_type": "markdown",
   "metadata": {},
   "source": [
    "В таблице критических значений найдем **p-value: 0.0002**.\n",
    "Так как p-value < 0.005, отвергаем нулевую гипотезу"
   ]
  },
  {
   "cell_type": "code",
   "execution_count": 24,
   "metadata": {},
   "outputs": [
    {
     "data": {
      "text/plain": [
       "Text(0, 0.5, 'экпрессия гена')"
      ]
     },
     "execution_count": 24,
     "metadata": {},
     "output_type": "execute_result"
    },
    {
     "data": {
      "image/png": "[encoded data removed]",
      "text/plain": [
       "<Figure size 360x360 with 1 Axes>"
      ]
     },
     "metadata": {
      "needs_background": "light"
     },
     "output_type": "display_data"
    }
   ],
   "source": [
    "plt.figure(figsize=(5,5))\n",
    "plt.title('Уровень экспрессии гена при различной терапии')\n",
    "boxplot = sns.boxplot(data=df, x='Therapy', y='expr')\n",
    "plt.xlabel('вид терапии')\n",
    "plt.ylabel('экпрессия гена')"
   ]
  },
  {
   "cell_type": "markdown",
   "metadata": {},
   "source": [
    "### <a id='step5'>Двухфакторный дисперсионный анализ</a>"
   ]
  },
  {
   "cell_type": "markdown",
   "metadata": {},
   "source": [
    "<img src='birds.png'> "
   ]
  },
  {
   "cell_type": "code",
   "execution_count": 26,
   "metadata": {},
   "outputs": [
    {
     "data": {
      "text/html": [
       "<div>\n",
       "<style scoped>\n",
       "    .dataframe tbody tr th:only-of-type {\n",
       "        vertical-align: middle;\n",
       "    }\n",
       "\n",
       "    .dataframe tbody tr th {\n",
       "        vertical-align: top;\n",
       "    }\n",
       "\n",
       "    .dataframe thead th {\n",
       "        text-align: right;\n",
       "    }\n",
       "</style>\n",
       "<table border=\"1\" class=\"dataframe\">\n",
       "  <thead>\n",
       "    <tr style=\"text-align: right;\">\n",
       "      <th></th>\n",
       "      <th>Genotype</th>\n",
       "      <th>years</th>\n",
       "      <th>value</th>\n",
       "    </tr>\n",
       "  </thead>\n",
       "  <tbody>\n",
       "    <tr>\n",
       "      <th>0</th>\n",
       "      <td>A</td>\n",
       "      <td>1_year</td>\n",
       "      <td>1.53</td>\n",
       "    </tr>\n",
       "    <tr>\n",
       "      <th>1</th>\n",
       "      <td>A</td>\n",
       "      <td>1_year</td>\n",
       "      <td>1.83</td>\n",
       "    </tr>\n",
       "    <tr>\n",
       "      <th>2</th>\n",
       "      <td>A</td>\n",
       "      <td>1_year</td>\n",
       "      <td>1.38</td>\n",
       "    </tr>\n",
       "    <tr>\n",
       "      <th>3</th>\n",
       "      <td>B</td>\n",
       "      <td>1_year</td>\n",
       "      <td>3.60</td>\n",
       "    </tr>\n",
       "    <tr>\n",
       "      <th>4</th>\n",
       "      <td>B</td>\n",
       "      <td>1_year</td>\n",
       "      <td>2.94</td>\n",
       "    </tr>\n",
       "  </tbody>\n",
       "</table>\n",
       "</div>"
      ],
      "text/plain": [
       "  Genotype   years  value\n",
       "0        A  1_year   1.53\n",
       "1        A  1_year   1.83\n",
       "2        A  1_year   1.38\n",
       "3        B  1_year   3.60\n",
       "4        B  1_year   2.94"
      ]
     },
     "execution_count": 26,
     "metadata": {},
     "output_type": "execute_result"
    }
   ],
   "source": [
    "df = pd.read_csv(\"https://reneshbedre.github.io/assets/posts/anova/twowayanova.txt\", sep=\"\\t\")\n",
    "df_melt = pd.melt(df, id_vars=['Genotype'], value_vars=['1_year', '2_year', '3_year'])\n",
    "df_melt.columns = ['Genotype', 'years', 'value']\n",
    "df_melt.head()"
   ]
  },
  {
   "cell_type": "code",
   "execution_count": 27,
   "metadata": {},
   "outputs": [
    {
     "data": {
      "text/plain": [
       "<AxesSubplot:xlabel='Genotype', ylabel='value'>"
      ]
     },
     "execution_count": 27,
     "metadata": {},
     "output_type": "execute_result"
    },
    {
     "data": {
      "image/png": "[encoded data removed]",
      "text/plain": [
       "<Figure size 432x288 with 1 Axes>"
      ]
     },
     "metadata": {
      "needs_background": "light"
     },
     "output_type": "display_data"
    }
   ],
   "source": [
    "sns.boxplot(x='Genotype', y='value', hue='years', data=df_melt)"
   ]
  },
  {
   "cell_type": "code",
   "execution_count": 28,
   "metadata": {},
   "outputs": [
    {
     "data": {
      "text/html": [
       "<div>\n",
       "<style scoped>\n",
       "    .dataframe tbody tr th:only-of-type {\n",
       "        vertical-align: middle;\n",
       "    }\n",
       "\n",
       "    .dataframe tbody tr th {\n",
       "        vertical-align: top;\n",
       "    }\n",
       "\n",
       "    .dataframe thead th {\n",
       "        text-align: right;\n",
       "    }\n",
       "</style>\n",
       "<table border=\"1\" class=\"dataframe\">\n",
       "  <thead>\n",
       "    <tr style=\"text-align: right;\">\n",
       "      <th></th>\n",
       "      <th>df</th>\n",
       "      <th>sum_sq</th>\n",
       "      <th>mean_sq</th>\n",
       "      <th>F</th>\n",
       "      <th>PR(&gt;F)</th>\n",
       "    </tr>\n",
       "  </thead>\n",
       "  <tbody>\n",
       "    <tr>\n",
       "      <th>C(Genotype)</th>\n",
       "      <td>5.0</td>\n",
       "      <td>58.551733</td>\n",
       "      <td>11.710347</td>\n",
       "      <td>32.748581</td>\n",
       "      <td>1.931655e-12</td>\n",
       "    </tr>\n",
       "    <tr>\n",
       "      <th>C(years)</th>\n",
       "      <td>2.0</td>\n",
       "      <td>278.925633</td>\n",
       "      <td>139.462817</td>\n",
       "      <td>390.014868</td>\n",
       "      <td>4.006243e-25</td>\n",
       "    </tr>\n",
       "    <tr>\n",
       "      <th>C(Genotype):C(years)</th>\n",
       "      <td>10.0</td>\n",
       "      <td>17.122967</td>\n",
       "      <td>1.712297</td>\n",
       "      <td>4.788525</td>\n",
       "      <td>2.230094e-04</td>\n",
       "    </tr>\n",
       "    <tr>\n",
       "      <th>Residual</th>\n",
       "      <td>36.0</td>\n",
       "      <td>12.873000</td>\n",
       "      <td>0.357583</td>\n",
       "      <td>NaN</td>\n",
       "      <td>NaN</td>\n",
       "    </tr>\n",
       "  </tbody>\n",
       "</table>\n",
       "</div>"
      ],
      "text/plain": [
       "                        df      sum_sq     mean_sq           F        PR(>F)\n",
       "C(Genotype)            5.0   58.551733   11.710347   32.748581  1.931655e-12\n",
       "C(years)               2.0  278.925633  139.462817  390.014868  4.006243e-25\n",
       "C(Genotype):C(years)  10.0   17.122967    1.712297    4.788525  2.230094e-04\n",
       "Residual              36.0   12.873000    0.357583         NaN           NaN"
      ]
     },
     "execution_count": 28,
     "metadata": {},
     "output_type": "execute_result"
    }
   ],
   "source": [
    "# многофакторный ANOVA (genotype&years)\n",
    "res = stat()\n",
    "res.anova_stat(df=df_melt, res_var='value', anova_model='value~C(Genotype)+C(years)+C(Genotype):C(years)')\n",
    "res.anova_summary"
   ]
  },
  {
   "cell_type": "markdown",
   "metadata": {},
   "source": [
    "### значимые различия получены для генотипа, лет и взаимодействия этих факторов"
   ]
  },
  {
   "cell_type": "code",
   "execution_count": 29,
   "metadata": {},
   "outputs": [
    {
     "data": {
      "image/png": "[encoded data removed]",
      "text/plain": [
       "<Figure size 432x288 with 1 Axes>"
      ]
     },
     "metadata": {
      "needs_background": "light"
     },
     "output_type": "display_data"
    }
   ],
   "source": [
    "from statsmodels.graphics.factorplots import interaction_plot\n",
    "import matplotlib.pyplot as plt\n",
    "fig = interaction_plot(x=df_melt['Genotype'], trace=df_melt['years'], response=df_melt['value'], \n",
    "    colors=['#4c061d','#d17a22', '#b4c292'])\n",
    "plt.show()"
   ]
  },
  {
   "cell_type": "markdown",
   "metadata": {},
   "source": [
    "### Линейная регрессия"
   ]
  },
  {
   "cell_type": "code",
   "execution_count": 30,
   "metadata": {},
   "outputs": [
    {
     "data": {
      "text/html": [
       "<div>\n",
       "<style scoped>\n",
       "    .dataframe tbody tr th:only-of-type {\n",
       "        vertical-align: middle;\n",
       "    }\n",
       "\n",
       "    .dataframe tbody tr th {\n",
       "        vertical-align: top;\n",
       "    }\n",
       "\n",
       "    .dataframe thead th {\n",
       "        text-align: right;\n",
       "    }\n",
       "</style>\n",
       "<table border=\"1\" class=\"dataframe\">\n",
       "  <thead>\n",
       "    <tr style=\"text-align: right;\">\n",
       "      <th></th>\n",
       "      <th>ntv_rich</th>\n",
       "      <th>area</th>\n",
       "    </tr>\n",
       "  </thead>\n",
       "  <tbody>\n",
       "    <tr>\n",
       "      <th>0</th>\n",
       "      <td>1.897627</td>\n",
       "      <td>1.602060</td>\n",
       "    </tr>\n",
       "    <tr>\n",
       "      <th>1</th>\n",
       "      <td>1.633468</td>\n",
       "      <td>0.477121</td>\n",
       "    </tr>\n",
       "    <tr>\n",
       "      <th>2</th>\n",
       "      <td>2.597695</td>\n",
       "      <td>3.432488</td>\n",
       "    </tr>\n",
       "    <tr>\n",
       "      <th>3</th>\n",
       "      <td>2.238046</td>\n",
       "      <td>1.785330</td>\n",
       "    </tr>\n",
       "    <tr>\n",
       "      <th>4</th>\n",
       "      <td>2.712650</td>\n",
       "      <td>3.075547</td>\n",
       "    </tr>\n",
       "  </tbody>\n",
       "</table>\n",
       "</div>"
      ],
      "text/plain": [
       "   ntv_rich      area\n",
       "0  1.897627  1.602060\n",
       "1  1.633468  0.477121\n",
       "2  2.597695  3.432488\n",
       "3  2.238046  1.785330\n",
       "4  2.712650  3.075547"
      ]
     },
     "execution_count": 30,
     "metadata": {},
     "output_type": "execute_result"
    }
   ],
   "source": [
    "import pandas as pd\n",
    "import numpy as np\n",
    "from bioinfokit.analys import stat, get_data\n",
    "import statsmodels.api as sm\n",
    "\n",
    "df = get_data('plant_richness_lr').data\n",
    "df.head(5)"
   ]
  },
  {
   "cell_type": "code",
   "execution_count": 31,
   "metadata": {},
   "outputs": [
    {
     "data": {
      "text/html": [
       "<table class=\"simpletable\">\n",
       "<caption>OLS Regression Results</caption>\n",
       "<tr>\n",
       "  <th>Dep. Variable:</th>        <td>ntv_rich</td>     <th>  R-squared:         </th> <td>   0.828</td>\n",
       "</tr>\n",
       "<tr>\n",
       "  <th>Model:</th>                   <td>OLS</td>       <th>  Adj. R-squared:    </th> <td>   0.819</td>\n",
       "</tr>\n",
       "<tr>\n",
       "  <th>Method:</th>             <td>Least Squares</td>  <th>  F-statistic:       </th> <td>   96.13</td>\n",
       "</tr>\n",
       "<tr>\n",
       "  <th>Date:</th>             <td>Fri, 11 Jun 2021</td> <th>  Prob (F-statistic):</th> <td>4.40e-09</td>\n",
       "</tr>\n",
       "<tr>\n",
       "  <th>Time:</th>                 <td>11:18:16</td>     <th>  Log-Likelihood:    </th> <td>  4.0471</td>\n",
       "</tr>\n",
       "<tr>\n",
       "  <th>No. Observations:</th>      <td>    22</td>      <th>  AIC:               </th> <td>  -4.094</td>\n",
       "</tr>\n",
       "<tr>\n",
       "  <th>Df Residuals:</th>          <td>    20</td>      <th>  BIC:               </th> <td>  -1.912</td>\n",
       "</tr>\n",
       "<tr>\n",
       "  <th>Df Model:</th>              <td>     1</td>      <th>                     </th>     <td> </td>   \n",
       "</tr>\n",
       "<tr>\n",
       "  <th>Covariance Type:</th>      <td>nonrobust</td>    <th>                     </th>     <td> </td>   \n",
       "</tr>\n",
       "</table>\n",
       "<table class=\"simpletable\">\n",
       "<tr>\n",
       "    <td></td>       <th>coef</th>     <th>std err</th>      <th>t</th>      <th>P>|t|</th>  <th>[0.025</th>    <th>0.975]</th>  \n",
       "</tr>\n",
       "<tr>\n",
       "  <th>const</th> <td>    1.3360</td> <td>    0.096</td> <td>   13.869</td> <td> 0.000</td> <td>    1.135</td> <td>    1.537</td>\n",
       "</tr>\n",
       "<tr>\n",
       "  <th>area</th>  <td>    0.3557</td> <td>    0.036</td> <td>    9.805</td> <td> 0.000</td> <td>    0.280</td> <td>    0.431</td>\n",
       "</tr>\n",
       "</table>\n",
       "<table class=\"simpletable\">\n",
       "<tr>\n",
       "  <th>Omnibus:</th>       <td> 0.057</td> <th>  Durbin-Watson:     </th> <td>   1.542</td>\n",
       "</tr>\n",
       "<tr>\n",
       "  <th>Prob(Omnibus):</th> <td> 0.972</td> <th>  Jarque-Bera (JB):  </th> <td>   0.278</td>\n",
       "</tr>\n",
       "<tr>\n",
       "  <th>Skew:</th>          <td>-0.033</td> <th>  Prob(JB):          </th> <td>   0.870</td>\n",
       "</tr>\n",
       "<tr>\n",
       "  <th>Kurtosis:</th>      <td> 2.453</td> <th>  Cond. No.          </th> <td>    6.33</td>\n",
       "</tr>\n",
       "</table><br/><br/>Notes:<br/>[1] Standard Errors assume that the covariance matrix of the errors is correctly specified."
      ],
      "text/plain": [
       "<class 'statsmodels.iolib.summary.Summary'>\n",
       "\"\"\"\n",
       "                            OLS Regression Results                            \n",
       "==============================================================================\n",
       "Dep. Variable:               ntv_rich   R-squared:                       0.828\n",
       "Model:                            OLS   Adj. R-squared:                  0.819\n",
       "Method:                 Least Squares   F-statistic:                     96.13\n",
       "Date:                Fri, 11 Jun 2021   Prob (F-statistic):           4.40e-09\n",
       "Time:                        11:18:16   Log-Likelihood:                 4.0471\n",
       "No. Observations:                  22   AIC:                            -4.094\n",
       "Df Residuals:                      20   BIC:                            -1.912\n",
       "Df Model:                           1                                         \n",
       "Covariance Type:            nonrobust                                         \n",
       "==============================================================================\n",
       "                 coef    std err          t      P>|t|      [0.025      0.975]\n",
       "------------------------------------------------------------------------------\n",
       "const          1.3360      0.096     13.869      0.000       1.135       1.537\n",
       "area           0.3557      0.036      9.805      0.000       0.280       0.431\n",
       "==============================================================================\n",
       "Omnibus:                        0.057   Durbin-Watson:                   1.542\n",
       "Prob(Omnibus):                  0.972   Jarque-Bera (JB):                0.278\n",
       "Skew:                          -0.033   Prob(JB):                        0.870\n",
       "Kurtosis:                       2.453   Cond. No.                         6.33\n",
       "==============================================================================\n",
       "\n",
       "Notes:\n",
       "[1] Standard Errors assume that the covariance matrix of the errors is correctly specified.\n",
       "\"\"\""
      ]
     },
     "execution_count": 31,
     "metadata": {},
     "output_type": "execute_result"
    }
   ],
   "source": [
    "X = df['area']\n",
    "Y = df['ntv_rich']\n",
    "\n",
    "X = sm.add_constant(X)\n",
    "\n",
    "reg = sm.OLS(Y, X).fit()\n",
    "reg.summary()"
   ]
  },
  {
   "cell_type": "code",
   "execution_count": 32,
   "metadata": {},
   "outputs": [
    {
     "data": {
      "image/png": "[encoded data removed]",
      "text/plain": [
       "<Figure size 432x288 with 1 Axes>"
      ]
     },
     "metadata": {
      "needs_background": "light"
     },
     "output_type": "display_data"
    }
   ],
   "source": [
    "from bioinfokit import visuz\n",
    "# get predicted Y and add to original dataframe\n",
    "df['yhat']=reg.predict(X)\n",
    "df.head(2)\n",
    "# create regression plot with defaults\n",
    "visuz.stat.regplot(df=df, x='area', y='ntv_rich', yhat='yhat', show=True)"
   ]
  },
  {
   "cell_type": "code",
   "execution_count": 33,
   "metadata": {},
   "outputs": [],
   "source": [
    "df['res']=pd.DataFrame(reg.resid)\n",
    "df['std_res']=reg.get_influence().resid_studentized_internal"
   ]
  },
  {
   "cell_type": "code",
   "execution_count": 34,
   "metadata": {},
   "outputs": [
    {
     "data": {
      "image/png": "[encoded data removed]",
      "text/plain": [
       "<Figure size 432x288 with 1 Axes>"
      ]
     },
     "metadata": {
      "needs_background": "light"
     },
     "output_type": "display_data"
    },
    {
     "data": {
      "image/png": "[encoded data removed]",
      "text/plain": [
       "<Figure size 432x288 with 1 Axes>"
      ]
     },
     "metadata": {
      "needs_background": "light"
     },
     "output_type": "display_data"
    }
   ],
   "source": [
    "visuz.stat.reg_resid_plot(df=df, yhat='yhat', resid='res', stdresid='std_res', show=True)"
   ]
  },
  {
   "cell_type": "code",
   "execution_count": 35,
   "metadata": {},
   "outputs": [
    {
     "data": {
      "image/png": "[encoded data removed]",
      "text/plain": [
       "<Figure size 432x288 with 1 Axes>"
      ]
     },
     "metadata": {
      "needs_background": "light"
     },
     "output_type": "display_data"
    }
   ],
   "source": [
    "import statsmodels.api as sm\n",
    "import matplotlib.pyplot as plt\n",
    "# create QQ plot\n",
    "# line=45 option to plot the data around 45 degree line\n",
    "sm.qqplot(df['std_res'], line='45')\n",
    "plt.xlabel(\"Theoretical Quantiles\")\n",
    "plt.ylabel(\"Standardized Residuals\")\n",
    "plt.show()"
   ]
  },
  {
   "cell_type": "markdown",
   "metadata": {},
   "source": [
    "### <a id='step7'>Хи-квадрат Пирсона</a>"
   ]
  },
  {
   "cell_type": "markdown",
   "metadata": {},
   "source": [
    "Условия задачи:\n",
    "<img src=\"pir.png\" width=500/> \n",
    "\n",
    "Предполагается, что представители четырех разных специальностей различаются в успешности решения задач двух разных типов. Необходимо проверить гипотезу о различиях в частоте решения задач разного типа представителями разных специальностей. α = 0,05\n",
    "- **H0**: представители разных специальностей решают задачи разных типов с одинаковой частотой (нет взаимосвязи между специальностью человека и его способностью решать определенный тип задач)\n",
    "- **H1**: представители разных специальностей решают задачи разных типов с РАЗНОЙ частотой (ЕСТЬ взаимосвязь между специальностью человека и его способностью решать определенный тип задач)"
   ]
  },
  {
   "cell_type": "code",
   "execution_count": 36,
   "metadata": {},
   "outputs": [
    {
     "name": "stdout",
     "output_type": "stream",
     "text": [
      "Xи-квадрат Пирсона=4.884978001257071, df=3, p-value=0.18041599111720938\n"
     ]
    }
   ],
   "source": [
    "#для расчета используется scipy.stats.chi2_contingency\n",
    "obs = np.array([[26, 14],[16, 21],[20,23],[18,22]])\n",
    "chi2, p, dof, ex = stats.chi2_contingency(obs)\n",
    "print(f'Xи-квадрат Пирсона={chi2}, df={dof}, p-value={p}')"
   ]
  },
  {
   "cell_type": "markdown",
   "metadata": {},
   "source": [
    "### Полученный p-value преодолел порог статистической значимости, что не позволяет отвергнуть нулевую гипотезу. Т.е., подтвердить гипотезу о различии не удалось  "
   ]
  },
  {
   "cell_type": "code",
   "execution_count": 37,
   "metadata": {},
   "outputs": [
    {
     "name": "stdout",
     "output_type": "stream",
     "text": [
      "Xи-квадрат Пирсона=1.2531328320802007, df=1, p-value=0.26295496582343514\n"
     ]
    }
   ],
   "source": [
    "obs = [[16, 24], [22,18]]\n",
    "chi2, p, dof, ex = stats.chi2_contingency(obs)\n",
    "print(f'Xи-квадрат Пирсона={chi2}, df={dof}, p-value={p}')"
   ]
  },
  {
   "cell_type": "code",
   "execution_count": 38,
   "metadata": {},
   "outputs": [],
   "source": [
    "obs = np.array([30,40,40,50])"
   ]
  },
  {
   "cell_type": "code",
   "execution_count": 39,
   "metadata": {},
   "outputs": [
    {
     "data": {
      "text/plain": [
       "Power_divergenceResult(statistic=5.0, pvalue=0.1717971442967335)"
      ]
     },
     "execution_count": 39,
     "metadata": {},
     "output_type": "execute_result"
    }
   ],
   "source": [
    "stats.chisquare(obs)"
   ]
  },
  {
   "cell_type": "code",
   "execution_count": 40,
   "metadata": {},
   "outputs": [
    {
     "name": "stdout",
     "output_type": "stream",
     "text": [
      "Xи-квадрат Пирсона=11.826919050232945, df=4, p-value=0.01868583819588996\n"
     ]
    }
   ],
   "source": [
    "obs = [[5,25,10,8,3], [11,12,19,5,7]]\n",
    "chi2, p, dof, ex = stats.chi2_contingency(obs)\n",
    "print(f'Xи-квадрат Пирсона={chi2}, df={dof}, p-value={p}')"
   ]
  }
 ],
 "metadata": {
  "kernelspec": {
   "display_name": "Python 3",
   "language": "python",
   "name": "python3"
  },
  "language_info": {
   "codemirror_mode": {
    "name": "ipython",
    "version": 3
   },
   "file_extension": ".py",
   "mimetype": "text/x-python",
   "name": "python",
   "nbconvert_exporter": "python",
   "pygments_lexer": "ipython3",
   "version": "3.8.5"
  }
 },
 "nbformat": 4,
 "nbformat_minor": 4
}
